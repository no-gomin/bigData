{
 "cells": [
  {
   "cell_type": "code",
   "execution_count": 1,
   "id": "613ae4fb",
   "metadata": {},
   "outputs": [
    {
     "name": "stdout",
     "output_type": "stream",
     "text": [
      "max : 10, min : 1\n"
     ]
    }
   ],
   "source": [
    "# 1. 최대값과 최소값을 리턴\n",
    "def get_max_min(data_list) :\n",
    "    return 'max : {}, min : {}'.format(max(data_list), min(data_list))\n",
    "L = [1, 4, 2, 10, 7]\n",
    "print(get_max_min(L))"
   ]
  },
  {
   "cell_type": "code",
   "execution_count": 2,
   "id": "d8c5e7e9",
   "metadata": {},
   "outputs": [
    {
     "name": "stdout",
     "output_type": "stream",
     "text": [
      "마른체형\n",
      "표준\n",
      "고도비만\n"
     ]
    }
   ],
   "source": [
    "# 2. \n",
    "def bmi_chk(kg, m) :\n",
    "    bmi = kg / (m**2)\n",
    "    if bmi < 18.5 :\n",
    "        return '마른체형'\n",
    "    elif 18.5 <= bmi < 25.0 :\n",
    "        return '표준'\n",
    "    elif 25 <= bmi < 30.0 :\n",
    "        return '비만'\n",
    "    elif 30.0 <= bmi :\n",
    "        return '고도비만'\n",
    "print(bmi_chk(50, 1.7))\n",
    "print(bmi_chk(80, 1.9))\n",
    "print(bmi_chk(110, 1.8))"
   ]
  },
  {
   "cell_type": "code",
   "execution_count": 3,
   "id": "716c8846",
   "metadata": {},
   "outputs": [
    {
     "name": "stdout",
     "output_type": "stream",
     "text": [
      "넓이 : 6.0, 둘레 : 12.0\n",
      "넓이 : 20.0, 둘레 : 22.4339811320566\n"
     ]
    }
   ],
   "source": [
    "# 3. 밑변과 높이 -> 삼각형의 면적과 둘레 계산\n",
    "import math\n",
    "def get_triangle(width, height) :\n",
    "    area = width * height / 2\n",
    "    perimeter = width + height + math.sqrt(width * width + height * height)\n",
    "    return '넓이 : {}, 둘레 : {}'.format(area, perimeter)\n",
    "print(get_triangle(3,4))\n",
    "print(get_triangle(5,8))"
   ]
  },
  {
   "cell_type": "code",
   "execution_count": 4,
   "id": "6c86b82b",
   "metadata": {},
   "outputs": [
    {
     "data": {
      "text/plain": [
       "49"
      ]
     },
     "execution_count": 4,
     "metadata": {},
     "output_type": "execute_result"
    }
   ],
   "source": [
    "# 4. a~b까지 모든 정수의 합\n",
    "def mysum(from_, end_) :\n",
    "    sum = 0\n",
    "    for i in range(from_, end_+1) :\n",
    "        sum += i\n",
    "    return sum\n",
    "mysum(4, 10)"
   ]
  },
  {
   "cell_type": "code",
   "execution_count": 5,
   "id": "3a2c1357",
   "metadata": {},
   "outputs": [
    {
     "data": {
      "text/plain": [
       "['Seo', 'Dae', 'Kwa', 'Jej']"
      ]
     },
     "execution_count": 5,
     "metadata": {},
     "output_type": "execute_result"
    }
   ],
   "source": [
    "# 5. 각 문자열의 첫 세글자로 구성된 리스트\n",
    "def get_abbrs(L) :\n",
    "    new_list = ([x[0:3] for x in L])\n",
    "    return new_list\n",
    "L = ['Seoul', 'Daegu', 'Kwangju', 'Jeju']\n",
    "get_abbrs(L)"
   ]
  },
  {
   "cell_type": "code",
   "execution_count": 6,
   "id": "04ec10d5",
   "metadata": {},
   "outputs": [
    {
     "data": {
      "text/plain": [
       "32"
      ]
     },
     "execution_count": 6,
     "metadata": {},
     "output_type": "execute_result"
    }
   ],
   "source": [
    "# 6. 람다 함수 형태로 수정\n",
    "# def f(x,y) :\n",
    "#     return x ** y\n",
    "f = lambda x, y : x ** y\n",
    "f(2,5)"
   ]
  },
  {
   "cell_type": "code",
   "execution_count": 7,
   "id": "4d8e0d00",
   "metadata": {},
   "outputs": [
    {
     "name": "stdout",
     "output_type": "stream",
     "text": [
      "[1, 4, 9, 16, 25]\n",
      "[1, 4, 9, 16, 25]\n"
     ]
    }
   ],
   "source": [
    "# 7. [1,2,3,4,5] -> [1,4,9,6,25] // x ** 2\n",
    "ex = [1,2,3,4,5]\n",
    "print(list(map(lambda x : x ** 2, ex)))\n",
    "print([x ** 2 for x in ex])"
   ]
  },
  {
   "cell_type": "code",
   "execution_count": 8,
   "id": "05d8c5a7",
   "metadata": {},
   "outputs": [],
   "source": [
    "# 8. \n",
    "# *a는 튜플을 언패킹함."
   ]
  },
  {
   "cell_type": "code",
   "execution_count": 9,
   "id": "176aed6b",
   "metadata": {},
   "outputs": [
    {
     "data": {
      "text/plain": [
       "'2019-9-6'"
      ]
     },
     "execution_count": 9,
     "metadata": {},
     "output_type": "execute_result"
    }
   ],
   "source": [
    "# 9. 출력 결과는?\n",
    "# 2019-9-6\n",
    "date_info = {'year' : '2019', 'month' : '9', 'day' : '6' }\n",
    "result = '{year}-{month}-{day}'.format(**date_info)\n",
    "result"
   ]
  },
  {
   "cell_type": "code",
   "execution_count": 10,
   "id": "e90be2e4",
   "metadata": {},
   "outputs": [
    {
     "name": "stdout",
     "output_type": "stream",
     "text": [
      "False\n",
      "True\n"
     ]
    }
   ],
   "source": [
    "# 10. 벡터의 크기가 동일한지 확인   \n",
    "vector_size_check = lambda *vector_var : len(set([len(vector) for vector in vector_var])) == 1\n",
    "\n",
    "print(vector_size_check([1,2,3], (2,3,4), {2,'s'}, {'name' : 'kim'}))\n",
    "print(vector_size_check([1,2,3], (2,3,4), {2,'s',False}))"
   ]
  },
  {
   "cell_type": "code",
   "execution_count": 11,
   "id": "572645a8",
   "metadata": {},
   "outputs": [
    {
     "data": {
      "text/plain": [
       "[5, 10, 15, 20]"
      ]
     },
     "execution_count": 11,
     "metadata": {},
     "output_type": "execute_result"
    }
   ],
   "source": [
    "# 11. \n",
    "def scalar_vector_products(a, b) :\n",
    "    return [x * a for x in b]\n",
    "scalar_vector_products(5, [1,2,3,4])"
   ]
  },
  {
   "cell_type": "code",
   "execution_count": 12,
   "id": "01d61905",
   "metadata": {},
   "outputs": [
    {
     "name": "stdout",
     "output_type": "stream",
     "text": [
      "902"
     ]
    }
   ],
   "source": [
    "# 1.\n",
    "def mappint(addr) :\n",
    "    table = [1,2,5,9,6,4,0,3,8,7]\n",
    "    return table [addr//SIZE]\n",
    "SIZE = 20\n",
    "group = [9,8,7,6,5,4,3,2,1,0]\n",
    "loc = [127,64,188]\n",
    "for a, b in enumerate(loc) :\n",
    "    print(group[mappint(loc[a])], end='')"
   ]
  },
  {
   "cell_type": "code",
   "execution_count": 13,
   "id": "9e3c939c",
   "metadata": {},
   "outputs": [
    {
     "name": "stdout",
     "output_type": "stream",
     "text": [
      "6(func함수에서 출력) 12(sub함수에서 출력) 6(func함수에서 출력) 13(sub함수에서 출력) "
     ]
    }
   ],
   "source": [
    "# 2. \n",
    "a = 10\n",
    "def sub():\n",
    "    global a\n",
    "    a += 1\n",
    "    print(a, end='(sub함수에서 출력) ')\n",
    "    \n",
    "def func():\n",
    "    for i in range(2):\n",
    "        a = 5 # 지역변수 a\n",
    "        a += 1\n",
    "        print(a, end='(func함수에서 출력) ')\n",
    "        sub()\n",
    "a += 1\n",
    "func()"
   ]
  },
  {
   "cell_type": "code",
   "execution_count": 14,
   "id": "579d9279",
   "metadata": {},
   "outputs": [
    {
     "name": "stdout",
     "output_type": "stream",
     "text": [
      "100\n"
     ]
    }
   ],
   "source": [
    "# 3. \n",
    "# 200 --- (틀림) ---> 100 \n",
    "var = 100\n",
    "def func(var) :\n",
    "    var = 200\n",
    "func(var)\n",
    "print(var)"
   ]
  },
  {
   "cell_type": "code",
   "execution_count": 15,
   "id": "b2f20754",
   "metadata": {},
   "outputs": [
    {
     "data": {
      "text/plain": [
       "5"
      ]
     },
     "execution_count": 15,
     "metadata": {},
     "output_type": "execute_result"
    }
   ],
   "source": [
    "# 4. \n",
    "# \n",
    "def my_func(func, *agrs) :\n",
    "    return func(*agrs)\n",
    "import numpy as np\n",
    "my_func(np.add, 2, 3)"
   ]
  },
  {
   "cell_type": "code",
   "execution_count": 16,
   "id": "64e48c10",
   "metadata": {},
   "outputs": [
    {
     "data": {
      "text/plain": [
       "9"
      ]
     },
     "execution_count": 16,
     "metadata": {},
     "output_type": "execute_result"
    }
   ],
   "source": [
    "# 5. \n",
    "# 9   --> 맞음\n",
    "def my_func(func, *args) :\n",
    "    return func(*args)\n",
    "my_func(lambda a, b : a ** b, 3, 2)"
   ]
  },
  {
   "cell_type": "code",
   "execution_count": 17,
   "id": "d5bc8fe1",
   "metadata": {},
   "outputs": [
    {
     "data": {
      "text/plain": [
       "'\\n파이썬 함수에 대한 설명 중 잘못된 것은?\\n① 파이썬의 함수는 중복 정의해 사용할 수 있다.\\n② 파이썬의 함수 매개변수는 기본값을 가질 수 있다.\\n③ **args 형식의 매개변수가 있으면 키워드 인수는 딕셔너리 형식으로 받는다.\\n④ 함수를 호출할 때 매개변수 이름이 없는 인수는 매개변수 이름이 있는 인수보다 앞에 와야 한다.\\n\\n'"
      ]
     },
     "execution_count": 17,
     "metadata": {},
     "output_type": "execute_result"
    }
   ],
   "source": [
    "# 6.  : 1(기존 함수는 삭제됨)\n",
    "'''\n",
    "파이썬 함수에 대한 설명 중 잘못된 것은?\n",
    "① 파이썬의 함수는 중복 정의해 사용할 수 있다.\n",
    "② 파이썬의 함수 매개변수는 기본값을 가질 수 있다.\n",
    "③ **args 형식의 매개변수가 있으면 키워드 인수는 딕셔너리 형식으로 받는다.\n",
    "④ 함수를 호출할 때 매개변수 이름이 없는 인수는 매개변수 이름이 있는 인수보다 앞에 와야 한다.\n",
    "\n",
    "'''"
   ]
  },
  {
   "cell_type": "code",
   "execution_count": 18,
   "id": "17dacf25",
   "metadata": {},
   "outputs": [
    {
     "name": "stdout",
     "output_type": "stream",
     "text": [
      "[10]\n",
      "[10, 20]\n",
      "[30]\n",
      "[40]\n"
     ]
    }
   ],
   "source": [
    "# 7. \n",
    "# 4 (L=[], a=40 으로 해야함) ----> 맞음\n",
    "list_ = []\n",
    "def func(a, L=None) :\n",
    "    if L is None :\n",
    "        L = []\n",
    "    L.append(a)\n",
    "    return L\n",
    "print(func(10, list_))\n",
    "print(func(20, L=list_))\n",
    "print(func(a=30))\n",
    "# print(func([], a=40))\n",
    "print(func(L=[], a=40))"
   ]
  },
  {
   "cell_type": "code",
   "execution_count": 19,
   "id": "b3ccc382",
   "metadata": {},
   "outputs": [],
   "source": [
    "# 8. \n",
    "# lambda "
   ]
  },
  {
   "cell_type": "code",
   "execution_count": 20,
   "id": "137527ea",
   "metadata": {
    "scrolled": true
   },
   "outputs": [
    {
     "data": {
      "text/plain": [
       "[(4, 'a'), (3, 'b'), (2, 'c'), (1, 'd')]"
      ]
     },
     "execution_count": 20,
     "metadata": {},
     "output_type": "execute_result"
    }
   ],
   "source": [
    "# 9. \n",
    "# 2 -----> 맞음....\n",
    "pairs = [(1, 'd'), (2, 'c'), (3, 'b'), (4, 'a')]\n",
    "pairs.sort(key=lambda pair : pair[1])\n",
    "pairs"
   ]
  },
  {
   "cell_type": "code",
   "execution_count": null,
   "id": "bc364216",
   "metadata": {},
   "outputs": [],
   "source": []
  },
  {
   "cell_type": "code",
   "execution_count": null,
   "id": "73e75352",
   "metadata": {},
   "outputs": [],
   "source": []
  },
  {
   "cell_type": "code",
   "execution_count": null,
   "id": "a4b161bc",
   "metadata": {},
   "outputs": [],
   "source": []
  }
 ],
 "metadata": {
  "kernelspec": {
   "display_name": "Python 3",
   "language": "python",
   "name": "python3"
  },
  "language_info": {
   "codemirror_mode": {
    "name": "ipython",
    "version": 3
   },
   "file_extension": ".py",
   "mimetype": "text/x-python",
   "name": "python",
   "nbconvert_exporter": "python",
   "pygments_lexer": "ipython3",
   "version": "3.8.8"
  },
  "toc": {
   "base_numbering": 1,
   "nav_menu": {},
   "number_sections": true,
   "sideBar": true,
   "skip_h1_title": false,
   "title_cell": "Table of Contents",
   "title_sidebar": "Contents",
   "toc_cell": false,
   "toc_position": {},
   "toc_section_display": true,
   "toc_window_display": false
  },
  "varInspector": {
   "cols": {
    "lenName": 16,
    "lenType": 16,
    "lenVar": 40
   },
   "kernels_config": {
    "python": {
     "delete_cmd_postfix": "",
     "delete_cmd_prefix": "del ",
     "library": "var_list.py",
     "varRefreshCmd": "print(var_dic_list())"
    },
    "r": {
     "delete_cmd_postfix": ") ",
     "delete_cmd_prefix": "rm(",
     "library": "var_list.r",
     "varRefreshCmd": "cat(var_dic_list()) "
    }
   },
   "types_to_exclude": [
    "module",
    "function",
    "builtin_function_or_method",
    "instance",
    "_Feature"
   ],
   "window_display": false
  }
 },
 "nbformat": 4,
 "nbformat_minor": 5
}
