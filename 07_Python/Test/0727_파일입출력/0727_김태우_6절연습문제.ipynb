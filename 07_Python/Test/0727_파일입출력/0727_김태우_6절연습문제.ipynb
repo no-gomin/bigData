{
 "cells": [
  {
   "cell_type": "markdown",
   "id": "a4f9b4b4",
   "metadata": {},
   "source": [
    "# 6절. 연습문제. 고객관리(1:입력, 2:전체출력,...)"
   ]
  },
  {
   "cell_type": "code",
   "execution_count": 1,
   "id": "aeb8cc33",
   "metadata": {},
   "outputs": [],
   "source": [
    "# 클래스 생성\n",
    "class Customer :\n",
    "    '고객 데이터 저장'\n",
    "    def __init__(self, name, phone, email, age, grade, etc) :\n",
    "        self.name = name\n",
    "        self.phone = phone\n",
    "        self.email = email\n",
    "        self.age = age\n",
    "        self.grade = grade\n",
    "        self.etc = etc\n",
    "    def as_dic(self) : # 객체를 딕ㄷ셔너리 데이터로 반환(csv파일 저장시)\n",
    "        return {'name' : self.name, 'phone' : self.phone, 'email' : self.email, \n",
    "                'age' : self.age, 'grade' : self.grade, 'etc' : self.etc}\n",
    "    def to_list_type(self) : # 객체를 '홍길동 010-8999-9999 aa@hong.com 20 3  까칠'\n",
    "        temp = [self.name, self.phone, self.email, str(self.age), str(self.grade), self.etc]\n",
    "        return ' '.join(temp)\n",
    "    def __str__(self) : #   *** 홍길동 010-8999-9999 aa@hong.com 20 3  까칠\n",
    "        return '{:>5}\\t{:3}\\t{:15}\\t{:15}\\t{:3}\\t{}'.format('*'*self.grade, self.name, self.phone, \n",
    "                                                              self.email, self.age, self.etc)"
   ]
  },
  {
   "cell_type": "code",
   "execution_count": 2,
   "id": "cf706153",
   "metadata": {},
   "outputs": [],
   "source": [
    "# txt파일을 Customer 객체로 반환\n",
    "def to_customer(row) :\n",
    "    data = row.strip().split(' ')\n",
    "    name = data[0]\n",
    "    phone = data[1]\n",
    "    email = data[2]\n",
    "    age = int(data[3])\n",
    "    grade = int(data[4])\n",
    "    etc = data[5]\n",
    "    return Customer(name, phone, email, age, grade, etc)"
   ]
  },
  {
   "cell_type": "code",
   "execution_count": 3,
   "id": "46e7ef3f",
   "metadata": {
    "code_folding": []
   },
   "outputs": [],
   "source": [
    "# txt 빈파일 생성 또는 기존데이터 로드\n",
    "def load_customers() :\n",
    "    customer_list = []\n",
    "    try : \n",
    "        with open('data/ch09_customers.txt', 'r', encoding = 'utf-8') as f :\n",
    "            lines = f.readlines()\n",
    "            for line in lines :\n",
    "                customer = to_customer(line)\n",
    "                customer_list.append(customer)\n",
    "        print('파일내 데이터가 로드됩니다.')\n",
    "    except FileNotFoundError :\n",
    "        print('파일이 없습니다. 새로 생성합니다.')\n",
    "        with open('data/ch09_customers.txt', 'w', encoding='utf-8') as f :\n",
    "            f.write('')\n",
    "    return customer_list"
   ]
  },
  {
   "cell_type": "code",
   "execution_count": 4,
   "id": "e7b4a1eb",
   "metadata": {},
   "outputs": [],
   "source": [
    "# 1. 입력\n",
    "def fn1_insert_customer_info() :\n",
    "    # 사용자로부터 이름, 전화번호, 이메일, 나이, 등급, etc를 받아 customer형 객체 return\n",
    "    name = input('이름을 입력하세요.')\n",
    "    phone = input('전화번호를 입력하세요.')\n",
    "    email = input('이메일을 연락하세요.')\n",
    "    age = int(input('나이를 입력하세요.(1~120)'))\n",
    "    grade = int(input('등급을 입력하세요. (1~5)'))\n",
    "    etc = input('기타사항을 입력하세요.') \n",
    "    print('입력내용 [ 이름 : {}, 전화번호 : {}, 이메일 :{}, 나이 : {}, 등급 : {}, 기타 : {} ]'.format(name, phone, email, age, grade, etc))\n",
    "    return Customer(name, phone, email, age, grade, etc)"
   ]
  },
  {
   "cell_type": "code",
   "execution_count": 5,
   "id": "42e7bb76",
   "metadata": {},
   "outputs": [],
   "source": [
    "# 2. 전체출력\n",
    "def fn2_print_customers(customer_list) :\n",
    "    print('{:^5}\\t{:^3}\\t{:^15}\\t{:^15}\\t{:^3}\\t{}'.format('GRADE', '이름', '전화', '메일', '나이', '기타'))\n",
    "    for c in customer_list :\n",
    "        print(c)"
   ]
  },
  {
   "cell_type": "code",
   "execution_count": 6,
   "id": "12faa920",
   "metadata": {},
   "outputs": [],
   "source": [
    "# 3. 삭제  \n",
    "def fn3_del_customer(customer_list) :\n",
    "    name = input('삭제하실 고객명을 입력하세요.')\n",
    "    delete_flag = False\n",
    "    for i, customer in enumerate(customer_list) :\n",
    "        if customer.name == name :\n",
    "            del customer_list[i]\n",
    "            print(name, '님을 삭제하였습니다.')\n",
    "            delete_flag = True\n",
    "            break\n",
    "    if delete_flag == False :\n",
    "        print(name, '님이 고객명단에 없습니다.')"
   ]
  },
  {
   "cell_type": "code",
   "execution_count": 7,
   "id": "a3ce3867",
   "metadata": {},
   "outputs": [],
   "source": [
    "# 4. 이름찾기 \n",
    "def fn4_search_customer(customer_list) :\n",
    "    name = input('조회하실 고객명을 입력하세요.')\n",
    "    search_result = []\n",
    "    for customer in customer_list :\n",
    "        if customer.name == name :\n",
    "            search_result.append(customer)\n",
    "    if len(search_result) == 0 :\n",
    "        print('조회한 고객이 없습니다.')\n",
    "    else :\n",
    "        for customer in search_result :\n",
    "            print(customer)"
   ]
  },
  {
   "cell_type": "code",
   "execution_count": 8,
   "id": "9ced63ce",
   "metadata": {},
   "outputs": [],
   "source": [
    "# 5. 내보내기(csv)\n",
    "def fn5_save_customer_csv(customer_list):\n",
    "    import csv\n",
    "    customer_dict_list = []\n",
    "    for customer in customer_list :\n",
    "        customer_dict_list.append(customer.as_dic())\n",
    "    filename = input('저장한 csv 파일 이름은 ?')\n",
    "    try :\n",
    "        with open('data/' + filename, 'w', newline='', encoding='UTF-8') as f :\n",
    "                dict_writer = csv.DictWriter(f, fieldnames=['name', 'phone', 'email', 'age', 'grade', 'etc'])\n",
    "                dict_writer.writeheader() \n",
    "                dict_writer.writerows(customer_dict_list)\n",
    "    except Exception as e :\n",
    "        print('데이터 내보내기 오류 ', e)"
   ]
  },
  {
   "cell_type": "code",
   "execution_count": 9,
   "id": "1646ba7e",
   "metadata": {},
   "outputs": [],
   "source": [
    "# 6. 종료 (종료하기 전 tdt파일 저장하고 종료)\n",
    "def fn9_save_customer_txt(customer_list):\n",
    "    customer_text_list = [] \n",
    "    for customer in customer_list:\n",
    "        customer_text_list.append(customer.to_list_type()+'\\n')\n",
    "    try:\n",
    "        with open(\"data/ch09_customers.txt\", \"w\", encoding=\"UTF-8\") as f:\n",
    "            f.writelines(customer_text_list)\n",
    "    except Exception as e:\n",
    "        print('데이터 내보내기 예외 :', e)"
   ]
  },
  {
   "cell_type": "code",
   "execution_count": 10,
   "id": "46cfc2a0",
   "metadata": {},
   "outputs": [],
   "source": [
    "def main() :\n",
    "    global customer_list\n",
    "    customer_list = load_customers() \n",
    "    while True :\n",
    "        print('1:입력 | 2:전체출력 | 3:삭제 | 4:이름찾기 | 5:내보내기(CSV) | 9:종료 | ', end = ' ')\n",
    "        fn = int(input('메뉴선택 : '))\n",
    "        if fn == 1 :\n",
    "            customer = fn1_insert_customer_info() \n",
    "            customer_list.append(customer)\n",
    "        elif fn == 2 :\n",
    "            fn2_print_customers(customer_list)\n",
    "        elif fn == 3 :\n",
    "            fn3_del_customer(customer_list)\n",
    "        elif fn == 4 :\n",
    "            fn4_search_customer(customer_list)\n",
    "        elif fn == 5 :\n",
    "            fn5_save_customer_csv(customer_list)\n",
    "        elif fn == 9 :\n",
    "            fn9_save_customer_txt(customer_list)\n",
    "            break"
   ]
  },
  {
   "cell_type": "code",
   "execution_count": 11,
   "id": "9a1cf7dd",
   "metadata": {},
   "outputs": [
    {
     "name": "stdout",
     "output_type": "stream",
     "text": [
      "파일내 데이터가 로드됩니다.\n",
      "1:입력 | 2:전체출력 | 3:삭제 | 4:이름찾기 | 5:내보내기(CSV) | 9:종료 |  메뉴선택 : 2\n",
      "GRADE\t이름 \t      전화       \t      메일       \t나이 \t기타\n",
      "  ***\t홍길동\t010-8999-9999  \taa@hong.com    \t 20\t까칠\n",
      "   **\t김김김\t010-7777-7777  \tdd@ddd.com     \t 30\t조용\n",
      "  ***\t하하하\t777-8888-9999  \tdddd@ca.com    \t 40\t시끌\n",
      "1:입력 | 2:전체출력 | 3:삭제 | 4:이름찾기 | 5:내보내기(CSV) | 9:종료 |  메뉴선택 : 1\n",
      "이름을 입력하세요.양하나\n",
      "전화번호를 입력하세요.010-9999-7777\n",
      "이메일을 연락하세요.asfds@dfd.com\n",
      "나이를 입력하세요.(1~120)100\n",
      "등급을 입력하세요. (1~5)5\n",
      "기타사항을 입력하세요.산만\n",
      "입력내용 [ 이름 : 양하나, 전화번호 : 010-9999-7777, 이메일 :asfds@dfd.com, 나이 : 100, 등급 : 5, 기타 : 산만 ]\n",
      "1:입력 | 2:전체출력 | 3:삭제 | 4:이름찾기 | 5:내보내기(CSV) | 9:종료 |  메뉴선택 : 2\n",
      "GRADE\t이름 \t      전화       \t      메일       \t나이 \t기타\n",
      "  ***\t홍길동\t010-8999-9999  \taa@hong.com    \t 20\t까칠\n",
      "   **\t김김김\t010-7777-7777  \tdd@ddd.com     \t 30\t조용\n",
      "  ***\t하하하\t777-8888-9999  \tdddd@ca.com    \t 40\t시끌\n",
      "*****\t양하나\t010-9999-7777  \tasfds@dfd.com  \t100\t산만\n",
      "1:입력 | 2:전체출력 | 3:삭제 | 4:이름찾기 | 5:내보내기(CSV) | 9:종료 |  메뉴선택 : 4\n",
      "조회하실 고객명을 입력하세요.김김김\n",
      "   **\t김김김\t010-7777-7777  \tdd@ddd.com     \t 30\t조용\n",
      "1:입력 | 2:전체출력 | 3:삭제 | 4:이름찾기 | 5:내보내기(CSV) | 9:종료 |  메뉴선택 : 3\n",
      "삭제하실 고객명을 입력하세요.김김김\n",
      "김김김 님을 삭제하였습니다.\n",
      "1:입력 | 2:전체출력 | 3:삭제 | 4:이름찾기 | 5:내보내기(CSV) | 9:종료 |  메뉴선택 : 2\n",
      "GRADE\t이름 \t      전화       \t      메일       \t나이 \t기타\n",
      "  ***\t홍길동\t010-8999-9999  \taa@hong.com    \t 20\t까칠\n",
      "  ***\t하하하\t777-8888-9999  \tdddd@ca.com    \t 40\t시끌\n",
      "*****\t양하나\t010-9999-7777  \tasfds@dfd.com  \t100\t산만\n",
      "1:입력 | 2:전체출력 | 3:삭제 | 4:이름찾기 | 5:내보내기(CSV) | 9:종료 |  메뉴선택 : 5\n",
      "저장한 csv 파일 이름은 ?customer\n",
      "1:입력 | 2:전체출력 | 3:삭제 | 4:이름찾기 | 5:내보내기(CSV) | 9:종료 |  메뉴선택 : 9\n"
     ]
    }
   ],
   "source": [
    "if __name__ == '__main__' :\n",
    "    main()"
   ]
  },
  {
   "cell_type": "code",
   "execution_count": null,
   "id": "f36f18c6",
   "metadata": {},
   "outputs": [],
   "source": []
  },
  {
   "cell_type": "code",
   "execution_count": null,
   "id": "65a3ea27",
   "metadata": {},
   "outputs": [],
   "source": []
  },
  {
   "cell_type": "code",
   "execution_count": null,
   "id": "e6775de8",
   "metadata": {},
   "outputs": [],
   "source": []
  }
 ],
 "metadata": {
  "kernelspec": {
   "display_name": "Python 3",
   "language": "python",
   "name": "python3"
  },
  "language_info": {
   "codemirror_mode": {
    "name": "ipython",
    "version": 3
   },
   "file_extension": ".py",
   "mimetype": "text/x-python",
   "name": "python",
   "nbconvert_exporter": "python",
   "pygments_lexer": "ipython3",
   "version": "3.8.8"
  },
  "toc": {
   "base_numbering": 1,
   "nav_menu": {},
   "number_sections": true,
   "sideBar": true,
   "skip_h1_title": false,
   "title_cell": "Table of Contents",
   "title_sidebar": "Contents",
   "toc_cell": false,
   "toc_position": {},
   "toc_section_display": true,
   "toc_window_display": false
  },
  "varInspector": {
   "cols": {
    "lenName": 16,
    "lenType": 16,
    "lenVar": 40
   },
   "kernels_config": {
    "python": {
     "delete_cmd_postfix": "",
     "delete_cmd_prefix": "del ",
     "library": "var_list.py",
     "varRefreshCmd": "print(var_dic_list())"
    },
    "r": {
     "delete_cmd_postfix": ") ",
     "delete_cmd_prefix": "rm(",
     "library": "var_list.r",
     "varRefreshCmd": "cat(var_dic_list()) "
    }
   },
   "position": {
    "height": "447px",
    "left": "1018px",
    "right": "20px",
    "top": "120px",
    "width": "350px"
   },
   "types_to_exclude": [
    "module",
    "function",
    "builtin_function_or_method",
    "instance",
    "_Feature"
   ],
   "window_display": false
  }
 },
 "nbformat": 4,
 "nbformat_minor": 5
}
