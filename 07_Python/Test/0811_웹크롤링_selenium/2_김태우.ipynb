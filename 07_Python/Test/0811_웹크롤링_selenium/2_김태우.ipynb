{
 "cells": [
  {
   "cell_type": "markdown",
   "id": "69be37a3",
   "metadata": {},
   "source": [
    "# 영어번역 자동화 프로그램 구현"
   ]
  },
  {
   "cell_type": "code",
   "execution_count": 1,
   "id": "cf3a6bbb",
   "metadata": {},
   "outputs": [],
   "source": [
    "from selenium import webdriver\n",
    "from selenium.webdriver.common.keys import Keys\n",
    "from bs4 import BeautifulSoup\n",
    "import time"
   ]
  },
  {
   "cell_type": "code",
   "execution_count": 2,
   "id": "a02fe035",
   "metadata": {},
   "outputs": [],
   "source": [
    "with open('2_한글원본.txt', 'r', encoding='utf-8') as f :\n",
    "    text = f.read()\n",
    "\n",
    "text_separated = []\n",
    "while len(text) > 5000 :\n",
    "    temp_text = text[0:5000]\n",
    "    temp_idx = temp_text.rfind('.\\n')\n",
    "    text_separated.append(temp_text[0:temp_idx])\n",
    "    text = text[temp_idx:]\n",
    "text_separated.append(text)\n",
    "\n",
    "results = ''\n",
    "result = ''\n",
    "\n",
    "driver = webdriver.Chrome()\n",
    "driver.get('https://translate.kakao.com/')\n",
    "welcome_close = driver.find_element_by_css_selector('div.layer_foot > a.btn_close > span.ico_translation')\n",
    "welcome_close.click()\n",
    "\n",
    "for text in text_separated :\n",
    "    query = driver.find_element_by_id('query')\n",
    "    query.send_keys(text)\n",
    "    btnTranslate = driver.find_element_by_id('btnTranslate')\n",
    "    btnTranslate.click()\n",
    "    \n",
    "    time.sleep(5)\n",
    "    \n",
    "    soup = BeautifulSoup(driver.page_source, 'html.parser')\n",
    "    result = soup.select_one('p#result').text\n",
    "    results += result\n",
    "    query = driver.find_element_by_id('query')\n",
    "    query.clear()\n",
    "\n",
    "driver.close()\n",
    "\n",
    "with open('2_자동화영어번역본.txt', 'w', encoding='utf-8') as f :\n",
    "    f.write(results)\n"
   ]
  },
  {
   "cell_type": "code",
   "execution_count": null,
   "id": "387d3412",
   "metadata": {},
   "outputs": [],
   "source": []
  },
  {
   "cell_type": "code",
   "execution_count": null,
   "id": "c1c342b4",
   "metadata": {},
   "outputs": [],
   "source": []
  }
 ],
 "metadata": {
  "kernelspec": {
   "display_name": "Python 3",
   "language": "python",
   "name": "python3"
  },
  "language_info": {
   "codemirror_mode": {
    "name": "ipython",
    "version": 3
   },
   "file_extension": ".py",
   "mimetype": "text/x-python",
   "name": "python",
   "nbconvert_exporter": "python",
   "pygments_lexer": "ipython3",
   "version": "3.8.8"
  },
  "toc": {
   "base_numbering": 1,
   "nav_menu": {},
   "number_sections": false,
   "sideBar": true,
   "skip_h1_title": false,
   "title_cell": "Table of Contents",
   "title_sidebar": "Contents",
   "toc_cell": false,
   "toc_position": {},
   "toc_section_display": true,
   "toc_window_display": true
  },
  "varInspector": {
   "cols": {
    "lenName": 16,
    "lenType": 16,
    "lenVar": 40
   },
   "kernels_config": {
    "python": {
     "delete_cmd_postfix": "",
     "delete_cmd_prefix": "del ",
     "library": "var_list.py",
     "varRefreshCmd": "print(var_dic_list())"
    },
    "r": {
     "delete_cmd_postfix": ") ",
     "delete_cmd_prefix": "rm(",
     "library": "var_list.r",
     "varRefreshCmd": "cat(var_dic_list()) "
    }
   },
   "types_to_exclude": [
    "module",
    "function",
    "builtin_function_or_method",
    "instance",
    "_Feature"
   ],
   "window_display": false
  }
 },
 "nbformat": 4,
 "nbformat_minor": 5
}
