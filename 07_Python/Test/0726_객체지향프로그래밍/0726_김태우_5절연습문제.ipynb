{
 "cells": [
  {
   "cell_type": "markdown",
   "id": "e72ab143",
   "metadata": {},
   "source": [
    "# 5절. 연습문제"
   ]
  },
  {
   "cell_type": "markdown",
   "id": "2ffe0268",
   "metadata": {},
   "source": [
    "실습형"
   ]
  },
  {
   "cell_type": "code",
   "execution_count": 1,
   "id": "8e4a8b92",
   "metadata": {},
   "outputs": [],
   "source": [
    "# 1. \n",
    "class Shape : \n",
    "    'Shape 클래스'    \n",
    "    def __init__(self, x = 0, y = 0) :\n",
    "        self.x = x\n",
    "        self.y = y\n",
    "    def move(self, x, y) :\n",
    "        self.x = x\n",
    "        self.y =y\n",
    "    def __str__(self) : \n",
    "        return 'x값 : {}, y값 : {}'.format(self.x, self.y)\n",
    "    def calc_area(self) :\n",
    "        raise Exception('구현되지 않았습니다.')             "
   ]
  },
  {
   "cell_type": "code",
   "execution_count": 2,
   "id": "c5f1efd5",
   "metadata": {},
   "outputs": [
    {
     "name": "stdout",
     "output_type": "stream",
     "text": [
      "x값 : 0, y값 : 0\n"
     ]
    }
   ],
   "source": [
    "s1 = Shape()\n",
    "print(s1)"
   ]
  },
  {
   "cell_type": "code",
   "execution_count": 3,
   "id": "eefd67f0",
   "metadata": {},
   "outputs": [
    {
     "ename": "Exception",
     "evalue": "구현되지 않았습니다.",
     "output_type": "error",
     "traceback": [
      "\u001b[1;31m---------------------------------------------------------------------------\u001b[0m",
      "\u001b[1;31mException\u001b[0m                                 Traceback (most recent call last)",
      "\u001b[1;32m<ipython-input-3-b08514298c83>\u001b[0m in \u001b[0;36m<module>\u001b[1;34m\u001b[0m\n\u001b[1;32m----> 1\u001b[1;33m \u001b[0ms1\u001b[0m\u001b[1;33m.\u001b[0m\u001b[0mcalc_area\u001b[0m\u001b[1;33m(\u001b[0m\u001b[1;33m)\u001b[0m\u001b[1;33m\u001b[0m\u001b[1;33m\u001b[0m\u001b[0m\n\u001b[0m",
      "\u001b[1;32m<ipython-input-1-2cc06f160115>\u001b[0m in \u001b[0;36mcalc_area\u001b[1;34m(self)\u001b[0m\n\u001b[0;32m     11\u001b[0m         \u001b[1;32mreturn\u001b[0m \u001b[1;34m'x값 : {}, y값 : {}'\u001b[0m\u001b[1;33m.\u001b[0m\u001b[0mformat\u001b[0m\u001b[1;33m(\u001b[0m\u001b[0mself\u001b[0m\u001b[1;33m.\u001b[0m\u001b[0mx\u001b[0m\u001b[1;33m,\u001b[0m \u001b[0mself\u001b[0m\u001b[1;33m.\u001b[0m\u001b[0my\u001b[0m\u001b[1;33m)\u001b[0m\u001b[1;33m\u001b[0m\u001b[1;33m\u001b[0m\u001b[0m\n\u001b[0;32m     12\u001b[0m     \u001b[1;32mdef\u001b[0m \u001b[0mcalc_area\u001b[0m\u001b[1;33m(\u001b[0m\u001b[0mself\u001b[0m\u001b[1;33m)\u001b[0m \u001b[1;33m:\u001b[0m\u001b[1;33m\u001b[0m\u001b[1;33m\u001b[0m\u001b[0m\n\u001b[1;32m---> 13\u001b[1;33m         \u001b[1;32mraise\u001b[0m \u001b[0mException\u001b[0m\u001b[1;33m(\u001b[0m\u001b[1;34m'구현되지 않았습니다.'\u001b[0m\u001b[1;33m)\u001b[0m\u001b[1;33m\u001b[0m\u001b[1;33m\u001b[0m\u001b[0m\n\u001b[0m",
      "\u001b[1;31mException\u001b[0m: 구현되지 않았습니다."
     ]
    }
   ],
   "source": [
    "s1.calc_area()"
   ]
  },
  {
   "cell_type": "code",
   "execution_count": 4,
   "id": "9dc56ff9",
   "metadata": {},
   "outputs": [],
   "source": [
    "class Triangle(Shape) :\n",
    "    'Triangle 클래스'\n",
    "    __count = 0\n",
    "    def __init__(self, width, height, x=0, y=0) :\n",
    "        super().__init__(x, y)\n",
    "        self.width = width\n",
    "        self.height = height\n",
    "        self.area = 0\n",
    "        Triangle._Triangle__count += 1\n",
    "    def __del__(self) :\n",
    "        Triangle._Triangle__count -= 1\n",
    "    def calc_area(self) :\n",
    "        self.area = self.width * self.height / 2\n",
    "    def __str__(self) :\n",
    "        return super().__str__() + ', 삼각형의 면적 : {}'.format(self.area)\n",
    "    @classmethod\n",
    "    def get_count(cls) :\n",
    "        return Triangle._Triangle__count    "
   ]
  },
  {
   "cell_type": "code",
   "execution_count": 5,
   "id": "1cf85344",
   "metadata": {},
   "outputs": [
    {
     "name": "stdout",
     "output_type": "stream",
     "text": [
      "x값 : 3, y값 : 1, 삼각형의 면적 : 25.0\n"
     ]
    }
   ],
   "source": [
    "t1 = Triangle(10, 5)\n",
    "t1.move(3, 1)\n",
    "t1.calc_area()\n",
    "print(t1)"
   ]
  },
  {
   "cell_type": "code",
   "execution_count": 6,
   "id": "07dcb013",
   "metadata": {},
   "outputs": [
    {
     "name": "stdout",
     "output_type": "stream",
     "text": [
      "x값 : 0, y값 : 0, 삼각형의 면적 : 0\n",
      "트라잉글 객체의 갯수 :  2\n"
     ]
    }
   ],
   "source": [
    "t2 = Triangle(8, 4)\n",
    "print(t2)\n",
    "print('트라잉글 객체의 갯수 : ', Triangle.get_count())"
   ]
  },
  {
   "cell_type": "markdown",
   "id": "24bb6392",
   "metadata": {},
   "source": [
    "서술형"
   ]
  },
  {
   "cell_type": "code",
   "execution_count": 7,
   "id": "e5d082c8",
   "metadata": {},
   "outputs": [],
   "source": [
    "# 1. 올바른 클래스 정의?\n",
    "# ① class Person :"
   ]
  },
  {
   "cell_type": "code",
   "execution_count": 8,
   "id": "d922c212",
   "metadata": {},
   "outputs": [],
   "source": [
    "# 2. Person 클래스 객체 생성 방법?\n",
    "# ② p1 = Person()"
   ]
  },
  {
   "cell_type": "code",
   "execution_count": 9,
   "id": "d2a30d57",
   "metadata": {},
   "outputs": [],
   "source": [
    "# 3. 인스턴스 메소드 선언 방법?\n",
    "# ④ def print_info(self) :"
   ]
  },
  {
   "cell_type": "code",
   "execution_count": 10,
   "id": "9d3fa9e5",
   "metadata": {},
   "outputs": [],
   "source": [
    "# 4. 생성자와 소멸자에 대해 잘못 설명한 것 ? \n",
    "# ③ 생성자의 원형은 .init_(self)이다. -----> __init__(self)"
   ]
  },
  {
   "cell_type": "code",
   "execution_count": 11,
   "id": "76002c4f",
   "metadata": {},
   "outputs": [],
   "source": [
    "# 5. 'Student is a Person'을 클래스 상속으로 표현한 것?\n",
    "# ② class Student(Person) :"
   ]
  },
  {
   "cell_type": "code",
   "execution_count": 12,
   "id": "a4eb4a42",
   "metadata": {},
   "outputs": [],
   "source": [
    "# 6. 상속과 재정의에 대해 잘 못 설명한 것?\n",
    "# ③ 재정의는 메소드의 이름은 같고, 매개변수의 수는 다르게 정의해야 한다."
   ]
  },
  {
   "cell_type": "code",
   "execution_count": 13,
   "id": "251d31ec",
   "metadata": {},
   "outputs": [],
   "source": [
    "# 7. 클래스의 메소드를 호출 하는 방법 중 잘못 된 것?\n",
    "# ③ SomeClass.method_a() ---> method_a()는 클래스 메소드가 아님"
   ]
  },
  {
   "cell_type": "code",
   "execution_count": 14,
   "id": "e1518353",
   "metadata": {},
   "outputs": [
    {
     "ename": "AttributeError",
     "evalue": "type object 'super' has no attribute 'do_'",
     "output_type": "error",
     "traceback": [
      "\u001b[1;31m---------------------------------------------------------------------------\u001b[0m",
      "\u001b[1;31mAttributeError\u001b[0m                            Traceback (most recent call last)",
      "\u001b[1;32m<ipython-input-14-dc2ec5f44f00>\u001b[0m in \u001b[0;36m<module>\u001b[1;34m\u001b[0m\n\u001b[0;32m     11\u001b[0m         \u001b[0mprint\u001b[0m\u001b[1;33m(\u001b[0m\u001b[1;34m'sub.do_'\u001b[0m\u001b[1;33m)\u001b[0m\u001b[1;33m\u001b[0m\u001b[1;33m\u001b[0m\u001b[0m\n\u001b[0;32m     12\u001b[0m \u001b[0ms1\u001b[0m \u001b[1;33m=\u001b[0m \u001b[0mSub\u001b[0m\u001b[1;33m(\u001b[0m\u001b[1;33m)\u001b[0m\u001b[1;33m\u001b[0m\u001b[1;33m\u001b[0m\u001b[0m\n\u001b[1;32m---> 13\u001b[1;33m \u001b[0ms1\u001b[0m\u001b[1;33m.\u001b[0m\u001b[0mdo_\u001b[0m\u001b[1;33m(\u001b[0m\u001b[1;36m10\u001b[0m\u001b[1;33m)\u001b[0m\u001b[1;33m\u001b[0m\u001b[1;33m\u001b[0m\u001b[0m\n\u001b[0m",
      "\u001b[1;32m<ipython-input-14-dc2ec5f44f00>\u001b[0m in \u001b[0;36mdo_\u001b[1;34m(self, a)\u001b[0m\n\u001b[0;32m      8\u001b[0m         \u001b[1;31m# 1. Super.do_(self, a)\u001b[0m\u001b[1;33m\u001b[0m\u001b[1;33m\u001b[0m\u001b[1;33m\u001b[0m\u001b[0m\n\u001b[0;32m      9\u001b[0m         \u001b[1;31m# 2. super().do_(a)\u001b[0m\u001b[1;33m\u001b[0m\u001b[1;33m\u001b[0m\u001b[1;33m\u001b[0m\u001b[0m\n\u001b[1;32m---> 10\u001b[1;33m         \u001b[0msuper\u001b[0m\u001b[1;33m.\u001b[0m\u001b[0mdo_\u001b[0m\u001b[1;33m(\u001b[0m\u001b[0ma\u001b[0m\u001b[1;33m)\u001b[0m \u001b[1;31m# 3. 오류 발생\u001b[0m\u001b[1;33m\u001b[0m\u001b[1;33m\u001b[0m\u001b[0m\n\u001b[0m\u001b[0;32m     11\u001b[0m         \u001b[0mprint\u001b[0m\u001b[1;33m(\u001b[0m\u001b[1;34m'sub.do_'\u001b[0m\u001b[1;33m)\u001b[0m\u001b[1;33m\u001b[0m\u001b[1;33m\u001b[0m\u001b[0m\n\u001b[0;32m     12\u001b[0m \u001b[0ms1\u001b[0m \u001b[1;33m=\u001b[0m \u001b[0mSub\u001b[0m\u001b[1;33m(\u001b[0m\u001b[1;33m)\u001b[0m\u001b[1;33m\u001b[0m\u001b[1;33m\u001b[0m\u001b[0m\n",
      "\u001b[1;31mAttributeError\u001b[0m: type object 'super' has no attribute 'do_'"
     ]
    }
   ],
   "source": [
    "# 8. 빈칸에 넣을 수 없는 것?\n",
    "# ③ super.do_(a)\n",
    "class Super :\n",
    "    def do_(self, a) : \n",
    "        print('Super.do_')\n",
    "class Sub(Super) :\n",
    "    def do_(self, a) :\n",
    "        # 1. Super.do_(self, a)\n",
    "        # 2. super().do_(a)\n",
    "        super.do_(a) # 3. 오류 발생\n",
    "        print('sub.do_')\n",
    "s1 = Sub()\n",
    "s1.do_(10)"
   ]
  },
  {
   "cell_type": "code",
   "execution_count": 15,
   "id": "3843b490",
   "metadata": {},
   "outputs": [],
   "source": [
    "# 9. 메소드에 대한 설명 중 잘못된 것?\n",
    "# ② __str__ 이 메소드는 매개변수를 가질 수 없다. "
   ]
  },
  {
   "cell_type": "code",
   "execution_count": null,
   "id": "d4f83684",
   "metadata": {},
   "outputs": [],
   "source": []
  }
 ],
 "metadata": {
  "kernelspec": {
   "display_name": "Python 3",
   "language": "python",
   "name": "python3"
  },
  "language_info": {
   "codemirror_mode": {
    "name": "ipython",
    "version": 3
   },
   "file_extension": ".py",
   "mimetype": "text/x-python",
   "name": "python",
   "nbconvert_exporter": "python",
   "pygments_lexer": "ipython3",
   "version": "3.8.8"
  },
  "toc": {
   "base_numbering": 1,
   "nav_menu": {},
   "number_sections": true,
   "sideBar": true,
   "skip_h1_title": false,
   "title_cell": "Table of Contents",
   "title_sidebar": "Contents",
   "toc_cell": false,
   "toc_position": {},
   "toc_section_display": true,
   "toc_window_display": false
  },
  "varInspector": {
   "cols": {
    "lenName": 16,
    "lenType": 16,
    "lenVar": 40
   },
   "kernels_config": {
    "python": {
     "delete_cmd_postfix": "",
     "delete_cmd_prefix": "del ",
     "library": "var_list.py",
     "varRefreshCmd": "print(var_dic_list())"
    },
    "r": {
     "delete_cmd_postfix": ") ",
     "delete_cmd_prefix": "rm(",
     "library": "var_list.r",
     "varRefreshCmd": "cat(var_dic_list()) "
    }
   },
   "types_to_exclude": [
    "module",
    "function",
    "builtin_function_or_method",
    "instance",
    "_Feature"
   ],
   "window_display": false
  }
 },
 "nbformat": 4,
 "nbformat_minor": 5
}
