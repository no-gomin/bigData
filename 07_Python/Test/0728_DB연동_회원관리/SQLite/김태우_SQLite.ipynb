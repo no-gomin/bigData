{
 "cells": [
  {
   "cell_type": "code",
   "execution_count": 1,
   "id": "35c863e3",
   "metadata": {},
   "outputs": [],
   "source": [
    "# 1. 입력\n",
    "def insert_member() :\n",
    "    name = input('이름 : ')\n",
    "    phone = input('전화번호 : ')\n",
    "    email = input('이메일 : ')\n",
    "    while True :\n",
    "        age = int(input('나이(1~120) : '))\n",
    "        if 1 <= age <=120 :\n",
    "            break\n",
    "        else :\n",
    "            print('유효한 나이가 아닙니다.')\n",
    "    while True :\n",
    "        grade = int(input('등급(1~5) : '))\n",
    "        if 1 <= grade <= 5 :\n",
    "            break\n",
    "        else :\n",
    "            print('유효한 등급 아닙니다.')\n",
    "    etc = input('기타사항 : ')\n",
    "    input_values = {'name' : name, 'phone' : phone, 'email' : email, 'age' : age, 'grade' : grade, 'etc' : etc}\n",
    "    cursor.execute('INSERT INTO MEMBER VALUES (:name, :phone, :email, :age, :grade, :etc)', input_values)\n",
    "    conn.commit()\n",
    "    print('저장되었습니다.')\n",
    "    print()"
   ]
  },
  {
   "cell_type": "code",
   "execution_count": 2,
   "id": "72dc326c",
   "metadata": {},
   "outputs": [],
   "source": [
    "# 2. 전체 출력\n",
    "def select_all() :\n",
    "    import pandas as pd\n",
    "    temp = cursor.execute('SELECT * FROM MEMBER')\n",
    "    select_all_data = pd.DataFrame(temp)\n",
    "    all_cnt = len(select_all_data)\n",
    "    if all_cnt >= 1 :\n",
    "        select_all_data.columns = [c[0] for c in cursor.description]\n",
    "        print(select_all_data)       \n",
    "    else :\n",
    "        print('입력된 명단이 없습니다.')\n",
    "    print()"
   ]
  },
  {
   "cell_type": "code",
   "execution_count": 3,
   "id": "a87d6035",
   "metadata": {},
   "outputs": [],
   "source": [
    "# 3. 이름검색\n",
    "def select_name() :\n",
    "    import pandas as pd\n",
    "    input_name = input('조회할 이름 : ')\n",
    "    temp = cursor.execute('SELECT * FROM MEMBER WHERE NAME = :name', {'name' : input_name})\n",
    "    select_name_data = pd.DataFrame(temp)\n",
    "    name_cnt = len(select_name_data)\n",
    "    if name_cnt >= 1 :\n",
    "        print('{}명의 이름이 조회되었습니다.'.format(name_cnt))\n",
    "        select_name_data.columns = [c[0] for c in cursor.description]\n",
    "        print(select_name_data)\n",
    "    else :\n",
    "        print('조회된 이름이 없습니다.')\n",
    "    print()"
   ]
  },
  {
   "cell_type": "code",
   "execution_count": 4,
   "id": "72b6d87a",
   "metadata": {},
   "outputs": [],
   "source": [
    "# 4. 메일 삭제\n",
    "def delete_email() : \n",
    "    import pandas as pd\n",
    "    temp = input('삭제할 이메일 : ')\n",
    "    input_email = {'email' : temp}\n",
    "    temp = cursor.execute('SELECT * FROM MEMBER WHERE EMAIL = :email', input_email)\n",
    "    delete_email_data = pd.DataFrame(temp)\n",
    "    email_cnt = len(delete_email_data)\n",
    "    if email_cnt >= 1 :\n",
    "        print(delete_email_data)\n",
    "        print('{}개의 이메일이 조회되었습니다. 조회된 이메일이 삭제됩니다.'.format(email_cnt))\n",
    "        cursor.execute('DELETE FROM MEMBER WHERE EMAIL = :email', input_email)\n",
    "    else :\n",
    "        print('조회된 이메일이 없습니다.')  \n",
    "    conn.commit()\n",
    "    print()"
   ]
  },
  {
   "cell_type": "code",
   "execution_count": 5,
   "id": "3bef4924",
   "metadata": {},
   "outputs": [],
   "source": [
    "# 5. CSV 내보내기\n",
    "def save_csv() :\n",
    "    import csv\n",
    "    temp = cursor.execute('SELECT * FROM MEMBER')\n",
    "    member_dict_list = []\n",
    "    member_dict_list.append(c[0] for c in cursor.description)\n",
    "    for t in temp :\n",
    "        member_dict_list.append(t)\n",
    "    try :\n",
    "        csv_name = input('저장할 CSV 파일명을 입력하세요. ')\n",
    "        with open(csv_name + '.csv', 'w', encoding='UTF-8', newline='') as f :\n",
    "            writer = csv.writer(f)\n",
    "            writer.writerows(member_dict_list)\n",
    "    except :\n",
    "        print('CSV 저장중 오류가 발생하였습니다.')\n",
    "    print()"
   ]
  },
  {
   "cell_type": "code",
   "execution_count": 6,
   "id": "722b2598",
   "metadata": {},
   "outputs": [],
   "source": [
    "# 0. 종료\n",
    "def close_sql() :\n",
    "    conn.commit()\n",
    "    cursor.close()\n",
    "    conn.close()\n",
    "    print('종료합니다.')\n",
    "    print()"
   ]
  },
  {
   "cell_type": "code",
   "execution_count": 7,
   "id": "f2ad15a8",
   "metadata": {},
   "outputs": [],
   "source": [
    "def main() :\n",
    "    global cursor\n",
    "    cursor = conn.cursor()\n",
    "    while True :\n",
    "        print('1:입력 | 2:전체조회 | 3:이름찾기 | 4:메일삭제 | 5:CSV내보내기 | 0:종료 | ', end = ' ')\n",
    "        fn = int(input('메뉴선택 : '))\n",
    "        if fn == 1 :\n",
    "            insert_member()\n",
    "        elif fn == 2 :\n",
    "            select_all()\n",
    "        elif fn == 3 :\n",
    "            select_name()\n",
    "        elif fn == 4 :\n",
    "            delete_email()\n",
    "        elif fn == 5 :\n",
    "            save_csv()\n",
    "        elif fn == 0 :\n",
    "            close_sql()\n",
    "            break\n",
    "        else :\n",
    "            print('유효하지 않은 번호입니다.')    "
   ]
  },
  {
   "cell_type": "code",
   "execution_count": 8,
   "id": "0a7bdf8f",
   "metadata": {},
   "outputs": [
    {
     "name": "stdout",
     "output_type": "stream",
     "text": [
      "1:입력 | 2:전체조회 | 3:이름찾기 | 4:메일삭제 | 5:CSV내보내기 | 0:종료 |  메뉴선택 : 2\n",
      "입력된 명단이 없습니다.\n",
      "\n",
      "1:입력 | 2:전체조회 | 3:이름찾기 | 4:메일삭제 | 5:CSV내보내기 | 0:종료 |  메뉴선택 : 1\n",
      "이름 : 홍길동\n",
      "전화번호 : 010-9999-8888\n",
      "이메일 : qq@ww.com\n",
      "나이(1~120) : 10\n",
      "등급(1~5) : 3\n",
      "기타사항 : 조용\n",
      "저장되었습니다.\n",
      "\n",
      "1:입력 | 2:전체조회 | 3:이름찾기 | 4:메일삭제 | 5:CSV내보내기 | 0:종료 |  메뉴선택 : 1\n",
      "이름 : 박하나\n",
      "전화번호 : 010-8888-7777\n",
      "이메일 : ee@aa.com\n",
      "나이(1~120) : 30\n",
      "등급(1~5) : 4\n",
      "기타사항 : 까칠\n",
      "저장되었습니다.\n",
      "\n",
      "1:입력 | 2:전체조회 | 3:이름찾기 | 4:메일삭제 | 5:CSV내보내기 | 0:종료 |  메뉴선택 : 2\n",
      "  NAME          PHONE      EMAIL  AGE  GRADE ETC\n",
      "0  홍길동  010-9999-8888  qq@ww.com   10      3  조용\n",
      "1  박하나  010-8888-7777  ee@aa.com   30      4  까칠\n",
      "\n",
      "1:입력 | 2:전체조회 | 3:이름찾기 | 4:메일삭제 | 5:CSV내보내기 | 0:종료 |  메뉴선택 : 3\n",
      "조회할 이름 : 홍길동\n",
      "1명의 이름이 조회되었습니다.\n",
      "  NAME          PHONE      EMAIL  AGE  GRADE ETC\n",
      "0  홍길동  010-9999-8888  qq@ww.com   10      3  조용\n",
      "\n",
      "1:입력 | 2:전체조회 | 3:이름찾기 | 4:메일삭제 | 5:CSV내보내기 | 0:종료 |  메뉴선택 : 4\n",
      "삭제할 이메일 : qq@ww.com\n",
      "     0              1          2   3  4   5\n",
      "0  홍길동  010-9999-8888  qq@ww.com  10  3  조용\n",
      "1개의 이메일이 조회되었습니다. 조회된 이메일이 삭제됩니다.\n",
      "\n",
      "1:입력 | 2:전체조회 | 3:이름찾기 | 4:메일삭제 | 5:CSV내보내기 | 0:종료 |  메뉴선택 : 5\n",
      "저장할 CSV 파일명을 입력하세요. SQLite_result\n",
      "\n",
      "1:입력 | 2:전체조회 | 3:이름찾기 | 4:메일삭제 | 5:CSV내보내기 | 0:종료 |  메뉴선택 : 0\n",
      "종료합니다.\n",
      "\n"
     ]
    }
   ],
   "source": [
    "if __name__ == '__main__' :\n",
    "    import sqlite3\n",
    "    global conn\n",
    "    conn = sqlite3.connect('data.db')\n",
    "    main()"
   ]
  },
  {
   "cell_type": "code",
   "execution_count": null,
   "id": "0259b165",
   "metadata": {},
   "outputs": [],
   "source": []
  }
 ],
 "metadata": {
  "kernelspec": {
   "display_name": "Python 3",
   "language": "python",
   "name": "python3"
  },
  "language_info": {
   "codemirror_mode": {
    "name": "ipython",
    "version": 3
   },
   "file_extension": ".py",
   "mimetype": "text/x-python",
   "name": "python",
   "nbconvert_exporter": "python",
   "pygments_lexer": "ipython3",
   "version": "3.8.8"
  },
  "toc": {
   "base_numbering": 1,
   "nav_menu": {},
   "number_sections": true,
   "sideBar": true,
   "skip_h1_title": false,
   "title_cell": "Table of Contents",
   "title_sidebar": "Contents",
   "toc_cell": false,
   "toc_position": {},
   "toc_section_display": true,
   "toc_window_display": false
  },
  "varInspector": {
   "cols": {
    "lenName": 16,
    "lenType": 16,
    "lenVar": 40
   },
   "kernels_config": {
    "python": {
     "delete_cmd_postfix": "",
     "delete_cmd_prefix": "del ",
     "library": "var_list.py",
     "varRefreshCmd": "print(var_dic_list())"
    },
    "r": {
     "delete_cmd_postfix": ") ",
     "delete_cmd_prefix": "rm(",
     "library": "var_list.r",
     "varRefreshCmd": "cat(var_dic_list()) "
    }
   },
   "types_to_exclude": [
    "module",
    "function",
    "builtin_function_or_method",
    "instance",
    "_Feature"
   ],
   "window_display": false
  }
 },
 "nbformat": 4,
 "nbformat_minor": 5
}
