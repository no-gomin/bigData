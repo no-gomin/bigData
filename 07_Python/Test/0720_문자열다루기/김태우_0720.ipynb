{
 "cells": [
  {
   "cell_type": "markdown",
   "id": "5dbcf7b0",
   "metadata": {},
   "source": [
    "# 8절 연습문제"
   ]
  },
  {
   "cell_type": "code",
   "execution_count": 1,
   "id": "6f3efb53",
   "metadata": {},
   "outputs": [
    {
     "name": "stdout",
     "output_type": "stream",
     "text": [
      "홍길동님의 나이는 23살입니다\n"
     ]
    }
   ],
   "source": [
    "# 1. 이름과 나이 변수를 다음 형식으로 출력하도록 format() 함수를 이용해 형식화하세요 \n",
    "# [출력형식 : 홍길동님의 나이는 23살입니다]\n",
    "name = '홍길동'\n",
    "age = 23\n",
    "print('{}님의 나이는 {}살입니다' .format(name, age))"
   ]
  },
  {
   "cell_type": "code",
   "execution_count": 2,
   "id": "a0908b2a",
   "metadata": {},
   "outputs": [
    {
     "name": "stdout",
     "output_type": "stream",
     "text": [
      "첫번째 정수를 입력하세요10\n",
      "두번째 정수를 입력하세요3\n",
      "입력받은 두정수 : 10, 3\n",
      "덧셈 : 13\n",
      "뺄셈 : 7\n",
      "곱셈 : 30\n",
      "나눗셈 몫 : 3\n",
      "나눗셈 나머지 : 1\n"
     ]
    }
   ],
   "source": [
    "# 2. 두 정수를 입력받아 두 수의 덧셈, 뺄셈, 곱셈, 나눗셈, 몫, 나머지를 출력하세요\n",
    "num1 = input('첫번째 정수를 입력하세요')\n",
    "num2 = input('두번째 정수를 입력하세요')\n",
    "print('입력받은 두정수 : {}, {}' .format(num1, num2))\n",
    "print('덧셈 : {}'.format(int(num1) + int(num2)))\n",
    "print('뺄셈 : {}'.format(int(num1) - int(num2)))\n",
    "print('곱셈 : {}'.format(int(num1) * int(num2)))\n",
    "print('나눗셈 몫 : {}'.format(int(num1) // int(num2)))\n",
    "print('나눗셈 나머지 : {}'.format(int(num1) % int(num2)))"
   ]
  },
  {
   "cell_type": "code",
   "execution_count": 3,
   "id": "2890abf6",
   "metadata": {},
   "outputs": [
    {
     "name": "stdout",
     "output_type": "stream",
     "text": [
      "Hello World\n"
     ]
    }
   ],
   "source": [
    "# 3. 문자열의 분리하기와 합치기 기능을 이용하여 ‘Hello World'가 할당된 변수를 이용하여 World Hello’로 출력\n",
    "word = 'Hello World'\n",
    "splited_word = word.split(' ')\n",
    "joined_word = ' '.join(splited_word)\n",
    "print(joined_word)"
   ]
  },
  {
   "cell_type": "code",
   "execution_count": 4,
   "id": "f61e392c",
   "metadata": {},
   "outputs": [
    {
     "name": "stdout",
     "output_type": "stream",
     "text": [
      "bcdefa\n"
     ]
    }
   ],
   "source": [
    "# 4, x = 'abcdef＇를 이용하여 ‘bcdefa’로 출력하세요(문자 슬라이싱이용).\n",
    "x = 'abcdef'\n",
    "print(x[1:], x[0], sep = '')"
   ]
  },
  {
   "cell_type": "code",
   "execution_count": 5,
   "id": "1b161d5e",
   "metadata": {
    "scrolled": true
   },
   "outputs": [
    {
     "name": "stdout",
     "output_type": "stream",
     "text": [
      "fedcba\n"
     ]
    }
   ],
   "source": [
    "# 5. x = ‘abcdef’를 이용하여 ‘fedcba’로 출력하세요\n",
    "x = 'abcdef'\n",
    "print(x[-1:-7:-1])"
   ]
  },
  {
   "cell_type": "code",
   "execution_count": 6,
   "id": "10f161b9",
   "metadata": {},
   "outputs": [
    {
     "name": "stdout",
     "output_type": "stream",
     "text": [
      "86.00\n"
     ]
    }
   ],
   "source": [
    "'''\n",
    "6. 오늘의 온도를 섭씨온도로 입력받아 화씨 온도로 변환하는 프로그램을 작성하세요. \n",
    "화씨 온도는 소수점 두번째 자리까지 출려되어야 합니다(다음은 섭씨와 화씨의 변환 공식입니다. C는 섭씨, F는 화씨)\n",
    "C = (F-32) / 1.8   F = (C*1.8) + 32\n",
    "'''\n",
    "def CtoF(x) :\n",
    "    temp = (x*1.8) + 32 \n",
    "    print('{:3.2f}'.format(temp))\n",
    "CtoF(30)"
   ]
  },
  {
   "cell_type": "code",
   "execution_count": 7,
   "id": "9d6c77a5",
   "metadata": {},
   "outputs": [
    {
     "name": "stdout",
     "output_type": "stream",
     "text": [
      "Seou1Seoul\n"
     ]
    }
   ],
   "source": [
    "# 8. 다음의 코드를 실행하면?\n",
    "text = \"Seoul A001\" \n",
    "print(text[:4]+text[-1] +text.split()[0] )"
   ]
  },
  {
   "cell_type": "code",
   "execution_count": 8,
   "id": "57f7ed28",
   "metadata": {},
   "outputs": [
    {
     "data": {
      "text/plain": [
       "'\\n9. 다음 중 파이썬 3.x 버전에서 연산식과 그 결과의 출력이 잘못된 것은?\\n① 수식 8//2 결과 4\\n② 수식 8/2 결과 4 <---- 정수 나누기 정수는 실수 = 4.0\\n③ 수식 8 **2 결과 64\\n'"
      ]
     },
     "execution_count": 8,
     "metadata": {},
     "output_type": "execute_result"
    }
   ],
   "source": [
    "'''\n",
    "9. 다음 중 파이썬 3.x 버전에서 연산식과 그 결과의 출력이 잘못된 것은?\n",
    "① 수식 8//2 결과 4\n",
    "② 수식 8/2 결과 4 <---- 정수 나누기 정수는 실수 = 4.0\n",
    "③ 수식 8 **2 결과 64\n",
    "'''"
   ]
  },
  {
   "cell_type": "code",
   "execution_count": null,
   "id": "2756c99d",
   "metadata": {},
   "outputs": [],
   "source": []
  }
 ],
 "metadata": {
  "kernelspec": {
   "display_name": "Python 3",
   "language": "python",
   "name": "python3"
  },
  "language_info": {
   "codemirror_mode": {
    "name": "ipython",
    "version": 3
   },
   "file_extension": ".py",
   "mimetype": "text/x-python",
   "name": "python",
   "nbconvert_exporter": "python",
   "pygments_lexer": "ipython3",
   "version": "3.8.8"
  },
  "toc": {
   "base_numbering": 1,
   "nav_menu": {},
   "number_sections": true,
   "sideBar": true,
   "skip_h1_title": false,
   "title_cell": "Table of Contents",
   "title_sidebar": "Contents",
   "toc_cell": false,
   "toc_position": {},
   "toc_section_display": true,
   "toc_window_display": false
  },
  "varInspector": {
   "cols": {
    "lenName": 16,
    "lenType": 16,
    "lenVar": 40
   },
   "kernels_config": {
    "python": {
     "delete_cmd_postfix": "",
     "delete_cmd_prefix": "del ",
     "library": "var_list.py",
     "varRefreshCmd": "print(var_dic_list())"
    },
    "r": {
     "delete_cmd_postfix": ") ",
     "delete_cmd_prefix": "rm(",
     "library": "var_list.r",
     "varRefreshCmd": "cat(var_dic_list()) "
    }
   },
   "types_to_exclude": [
    "module",
    "function",
    "builtin_function_or_method",
    "instance",
    "_Feature"
   ],
   "window_display": false
  }
 },
 "nbformat": 4,
 "nbformat_minor": 5
}
